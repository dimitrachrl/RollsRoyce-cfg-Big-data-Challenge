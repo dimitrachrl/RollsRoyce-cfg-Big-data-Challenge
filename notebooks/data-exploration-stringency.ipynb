{
 "cells": [
  {
   "cell_type": "markdown",
   "metadata": {},
   "source": [
    "# Data Exploration – Stringency"
   ]
  },
  {
   "cell_type": "markdown",
   "metadata": {},
   "source": [
    "This file contains my prelimiary exploration of the stringency data. I have left everything as it was from the first time I wrote it rather than going back and correcting plots so that I can see my thinking process and remember what I've learned."
   ]
  },
  {
   "cell_type": "code",
   "execution_count": 1,
   "metadata": {},
   "outputs": [],
   "source": [
    "import pandas as pd\n",
    "import matplotlib.pyplot as plt\n",
    "import locale\n",
    "from matplotlib.dates import DateFormatter"
   ]
  },
  {
   "cell_type": "markdown",
   "metadata": {},
   "source": [
    "## 1. Import data  \n",
    "I have imported the cleaned stringency data (spanning 01/01/20 – 23/08/20) for the UK combined as well as the individual nations."
   ]
  },
  {
   "cell_type": "code",
   "execution_count": 2,
   "metadata": {},
   "outputs": [],
   "source": [
    "string_uk = pd.read_excel('../data/response_indices.xlsx', sheet_name='UK_combined')\n",
    "string_eng = pd.read_excel('../data/response_indices.xlsx', sheet_name='England')\n",
    "string_ni = pd.read_excel('../data/response_indices.xlsx', sheet_name='Northern_Ireland')\n",
    "string_scot = pd.read_excel('../data/response_indices.xlsx', sheet_name='Scotland')\n",
    "string_wales = pd.read_excel('../data/response_indices.xlsx', sheet_name='Wales')"
   ]
  },
  {
   "cell_type": "markdown",
   "metadata": {},
   "source": [
    "## 2. Check data  \n",
    "I first want to check that the data was imported correctly and to have a recap of the structure of the dataframe."
   ]
  },
  {
   "cell_type": "code",
   "execution_count": 3,
   "metadata": {},
   "outputs": [
    {
     "data": {
      "text/html": [
       "<div>\n",
       "<style scoped>\n",
       "    .dataframe tbody tr th:only-of-type {\n",
       "        vertical-align: middle;\n",
       "    }\n",
       "\n",
       "    .dataframe tbody tr th {\n",
       "        vertical-align: top;\n",
       "    }\n",
       "\n",
       "    .dataframe thead th {\n",
       "        text-align: right;\n",
       "    }\n",
       "</style>\n",
       "<table border=\"1\" class=\"dataframe\">\n",
       "  <thead>\n",
       "    <tr style=\"text-align: right;\">\n",
       "      <th></th>\n",
       "      <th>date</th>\n",
       "      <th>c1_school_closing</th>\n",
       "      <th>c2_workplace_closing</th>\n",
       "      <th>c3_cancel_public_events</th>\n",
       "      <th>c4_restrictions_on_gatherings</th>\n",
       "      <th>c5_close_public_transport</th>\n",
       "      <th>c6_stay_at_home_requirements</th>\n",
       "      <th>c7_restrictions_on_internal_movement</th>\n",
       "      <th>c8_international_travel_controls</th>\n",
       "      <th>e1_income_support</th>\n",
       "      <th>...</th>\n",
       "      <th>h3_contact_tracing</th>\n",
       "      <th>h4_emergency_investment_in_healthcare</th>\n",
       "      <th>h5_investment_in_vaccines</th>\n",
       "      <th>confirmed_cases</th>\n",
       "      <th>confirmed_deaths</th>\n",
       "      <th>stringency_index</th>\n",
       "      <th>stringency_legacy_index</th>\n",
       "      <th>government_response_index</th>\n",
       "      <th>containment_health_index</th>\n",
       "      <th>economic_support_index</th>\n",
       "    </tr>\n",
       "  </thead>\n",
       "  <tbody>\n",
       "    <tr>\n",
       "      <th>0</th>\n",
       "      <td>20200101</td>\n",
       "      <td>0</td>\n",
       "      <td>0</td>\n",
       "      <td>0</td>\n",
       "      <td>0</td>\n",
       "      <td>0</td>\n",
       "      <td>0</td>\n",
       "      <td>0</td>\n",
       "      <td>0</td>\n",
       "      <td>0</td>\n",
       "      <td>...</td>\n",
       "      <td>0</td>\n",
       "      <td>0.0</td>\n",
       "      <td>0.0</td>\n",
       "      <td>0</td>\n",
       "      <td>0</td>\n",
       "      <td>0.0</td>\n",
       "      <td>0.0</td>\n",
       "      <td>0.0</td>\n",
       "      <td>0.0</td>\n",
       "      <td>0.0</td>\n",
       "    </tr>\n",
       "    <tr>\n",
       "      <th>1</th>\n",
       "      <td>20200102</td>\n",
       "      <td>0</td>\n",
       "      <td>0</td>\n",
       "      <td>0</td>\n",
       "      <td>0</td>\n",
       "      <td>0</td>\n",
       "      <td>0</td>\n",
       "      <td>0</td>\n",
       "      <td>0</td>\n",
       "      <td>0</td>\n",
       "      <td>...</td>\n",
       "      <td>0</td>\n",
       "      <td>0.0</td>\n",
       "      <td>0.0</td>\n",
       "      <td>0</td>\n",
       "      <td>0</td>\n",
       "      <td>0.0</td>\n",
       "      <td>0.0</td>\n",
       "      <td>0.0</td>\n",
       "      <td>0.0</td>\n",
       "      <td>0.0</td>\n",
       "    </tr>\n",
       "    <tr>\n",
       "      <th>2</th>\n",
       "      <td>20200103</td>\n",
       "      <td>0</td>\n",
       "      <td>0</td>\n",
       "      <td>0</td>\n",
       "      <td>0</td>\n",
       "      <td>0</td>\n",
       "      <td>0</td>\n",
       "      <td>0</td>\n",
       "      <td>0</td>\n",
       "      <td>0</td>\n",
       "      <td>...</td>\n",
       "      <td>0</td>\n",
       "      <td>0.0</td>\n",
       "      <td>0.0</td>\n",
       "      <td>0</td>\n",
       "      <td>0</td>\n",
       "      <td>0.0</td>\n",
       "      <td>0.0</td>\n",
       "      <td>0.0</td>\n",
       "      <td>0.0</td>\n",
       "      <td>0.0</td>\n",
       "    </tr>\n",
       "    <tr>\n",
       "      <th>3</th>\n",
       "      <td>20200104</td>\n",
       "      <td>0</td>\n",
       "      <td>0</td>\n",
       "      <td>0</td>\n",
       "      <td>0</td>\n",
       "      <td>0</td>\n",
       "      <td>0</td>\n",
       "      <td>0</td>\n",
       "      <td>0</td>\n",
       "      <td>0</td>\n",
       "      <td>...</td>\n",
       "      <td>0</td>\n",
       "      <td>0.0</td>\n",
       "      <td>0.0</td>\n",
       "      <td>0</td>\n",
       "      <td>0</td>\n",
       "      <td>0.0</td>\n",
       "      <td>0.0</td>\n",
       "      <td>0.0</td>\n",
       "      <td>0.0</td>\n",
       "      <td>0.0</td>\n",
       "    </tr>\n",
       "    <tr>\n",
       "      <th>4</th>\n",
       "      <td>20200105</td>\n",
       "      <td>0</td>\n",
       "      <td>0</td>\n",
       "      <td>0</td>\n",
       "      <td>0</td>\n",
       "      <td>0</td>\n",
       "      <td>0</td>\n",
       "      <td>0</td>\n",
       "      <td>0</td>\n",
       "      <td>0</td>\n",
       "      <td>...</td>\n",
       "      <td>0</td>\n",
       "      <td>0.0</td>\n",
       "      <td>0.0</td>\n",
       "      <td>0</td>\n",
       "      <td>0</td>\n",
       "      <td>0.0</td>\n",
       "      <td>0.0</td>\n",
       "      <td>0.0</td>\n",
       "      <td>0.0</td>\n",
       "      <td>0.0</td>\n",
       "    </tr>\n",
       "  </tbody>\n",
       "</table>\n",
       "<p>5 rows × 25 columns</p>\n",
       "</div>"
      ],
      "text/plain": [
       "       date  c1_school_closing  c2_workplace_closing  c3_cancel_public_events  \\\n",
       "0  20200101                  0                     0                        0   \n",
       "1  20200102                  0                     0                        0   \n",
       "2  20200103                  0                     0                        0   \n",
       "3  20200104                  0                     0                        0   \n",
       "4  20200105                  0                     0                        0   \n",
       "\n",
       "   c4_restrictions_on_gatherings  c5_close_public_transport  \\\n",
       "0                              0                          0   \n",
       "1                              0                          0   \n",
       "2                              0                          0   \n",
       "3                              0                          0   \n",
       "4                              0                          0   \n",
       "\n",
       "   c6_stay_at_home_requirements  c7_restrictions_on_internal_movement  \\\n",
       "0                             0                                     0   \n",
       "1                             0                                     0   \n",
       "2                             0                                     0   \n",
       "3                             0                                     0   \n",
       "4                             0                                     0   \n",
       "\n",
       "   c8_international_travel_controls  e1_income_support  ...  \\\n",
       "0                                 0                  0  ...   \n",
       "1                                 0                  0  ...   \n",
       "2                                 0                  0  ...   \n",
       "3                                 0                  0  ...   \n",
       "4                                 0                  0  ...   \n",
       "\n",
       "   h3_contact_tracing  h4_emergency_investment_in_healthcare  \\\n",
       "0                   0                                    0.0   \n",
       "1                   0                                    0.0   \n",
       "2                   0                                    0.0   \n",
       "3                   0                                    0.0   \n",
       "4                   0                                    0.0   \n",
       "\n",
       "   h5_investment_in_vaccines  confirmed_cases  confirmed_deaths  \\\n",
       "0                        0.0                0                 0   \n",
       "1                        0.0                0                 0   \n",
       "2                        0.0                0                 0   \n",
       "3                        0.0                0                 0   \n",
       "4                        0.0                0                 0   \n",
       "\n",
       "   stringency_index  stringency_legacy_index  government_response_index  \\\n",
       "0               0.0                      0.0                        0.0   \n",
       "1               0.0                      0.0                        0.0   \n",
       "2               0.0                      0.0                        0.0   \n",
       "3               0.0                      0.0                        0.0   \n",
       "4               0.0                      0.0                        0.0   \n",
       "\n",
       "   containment_health_index  economic_support_index  \n",
       "0                       0.0                     0.0  \n",
       "1                       0.0                     0.0  \n",
       "2                       0.0                     0.0  \n",
       "3                       0.0                     0.0  \n",
       "4                       0.0                     0.0  \n",
       "\n",
       "[5 rows x 25 columns]"
      ]
     },
     "execution_count": 3,
     "metadata": {},
     "output_type": "execute_result"
    }
   ],
   "source": [
    "string_uk.head()"
   ]
  },
  {
   "cell_type": "code",
   "execution_count": 4,
   "metadata": {},
   "outputs": [
    {
     "data": {
      "text/html": [
       "<div>\n",
       "<style scoped>\n",
       "    .dataframe tbody tr th:only-of-type {\n",
       "        vertical-align: middle;\n",
       "    }\n",
       "\n",
       "    .dataframe tbody tr th {\n",
       "        vertical-align: top;\n",
       "    }\n",
       "\n",
       "    .dataframe thead th {\n",
       "        text-align: right;\n",
       "    }\n",
       "</style>\n",
       "<table border=\"1\" class=\"dataframe\">\n",
       "  <thead>\n",
       "    <tr style=\"text-align: right;\">\n",
       "      <th></th>\n",
       "      <th>date</th>\n",
       "      <th>c1_school_closing</th>\n",
       "      <th>c2_workplace_closing</th>\n",
       "      <th>c3_cancel_public_events</th>\n",
       "      <th>c4_restrictions_on_gatherings</th>\n",
       "      <th>c5_close_public_transport</th>\n",
       "      <th>c6_stay_at_home_requirements</th>\n",
       "      <th>c7_restrictions_on_internal_movement</th>\n",
       "      <th>c8_international_travel_controls</th>\n",
       "      <th>e1_income_support</th>\n",
       "      <th>...</th>\n",
       "      <th>h3_contact_tracing</th>\n",
       "      <th>h4_emergency_investment_in_healthcare</th>\n",
       "      <th>h5_investment_in_vaccines</th>\n",
       "      <th>confirmed_cases</th>\n",
       "      <th>confirmed_deaths</th>\n",
       "      <th>stringency_index</th>\n",
       "      <th>stringency_legacy_index</th>\n",
       "      <th>government_response_index</th>\n",
       "      <th>containment_health_index</th>\n",
       "      <th>economic_support_index</th>\n",
       "    </tr>\n",
       "  </thead>\n",
       "  <tbody>\n",
       "    <tr>\n",
       "      <th>231</th>\n",
       "      <td>20200819</td>\n",
       "      <td>2</td>\n",
       "      <td>2</td>\n",
       "      <td>2</td>\n",
       "      <td>4</td>\n",
       "      <td>1</td>\n",
       "      <td>0</td>\n",
       "      <td>2</td>\n",
       "      <td>2</td>\n",
       "      <td>2</td>\n",
       "      <td>...</td>\n",
       "      <td>2</td>\n",
       "      <td>0.0</td>\n",
       "      <td>0.0</td>\n",
       "      <td>320286</td>\n",
       "      <td>41381</td>\n",
       "      <td>64.35</td>\n",
       "      <td>72.62</td>\n",
       "      <td>72.76</td>\n",
       "      <td>67.8</td>\n",
       "      <td>100.0</td>\n",
       "    </tr>\n",
       "    <tr>\n",
       "      <th>232</th>\n",
       "      <td>20200820</td>\n",
       "      <td>2</td>\n",
       "      <td>2</td>\n",
       "      <td>2</td>\n",
       "      <td>4</td>\n",
       "      <td>1</td>\n",
       "      <td>0</td>\n",
       "      <td>2</td>\n",
       "      <td>2</td>\n",
       "      <td>2</td>\n",
       "      <td>...</td>\n",
       "      <td>2</td>\n",
       "      <td>0.0</td>\n",
       "      <td>0.0</td>\n",
       "      <td>321098</td>\n",
       "      <td>41397</td>\n",
       "      <td>64.35</td>\n",
       "      <td>72.62</td>\n",
       "      <td>72.76</td>\n",
       "      <td>67.8</td>\n",
       "      <td>100.0</td>\n",
       "    </tr>\n",
       "    <tr>\n",
       "      <th>233</th>\n",
       "      <td>20200821</td>\n",
       "      <td>2</td>\n",
       "      <td>2</td>\n",
       "      <td>2</td>\n",
       "      <td>4</td>\n",
       "      <td>1</td>\n",
       "      <td>0</td>\n",
       "      <td>2</td>\n",
       "      <td>2</td>\n",
       "      <td>2</td>\n",
       "      <td>...</td>\n",
       "      <td>2</td>\n",
       "      <td>0.0</td>\n",
       "      <td>0.0</td>\n",
       "      <td>322280</td>\n",
       "      <td>41403</td>\n",
       "      <td>64.35</td>\n",
       "      <td>72.62</td>\n",
       "      <td>72.76</td>\n",
       "      <td>67.8</td>\n",
       "      <td>100.0</td>\n",
       "    </tr>\n",
       "    <tr>\n",
       "      <th>234</th>\n",
       "      <td>20200822</td>\n",
       "      <td>2</td>\n",
       "      <td>2</td>\n",
       "      <td>2</td>\n",
       "      <td>4</td>\n",
       "      <td>1</td>\n",
       "      <td>0</td>\n",
       "      <td>2</td>\n",
       "      <td>2</td>\n",
       "      <td>2</td>\n",
       "      <td>...</td>\n",
       "      <td>2</td>\n",
       "      <td>0.0</td>\n",
       "      <td>0.0</td>\n",
       "      <td>323313</td>\n",
       "      <td>41405</td>\n",
       "      <td>64.35</td>\n",
       "      <td>72.62</td>\n",
       "      <td>72.76</td>\n",
       "      <td>67.8</td>\n",
       "      <td>100.0</td>\n",
       "    </tr>\n",
       "    <tr>\n",
       "      <th>235</th>\n",
       "      <td>20200823</td>\n",
       "      <td>2</td>\n",
       "      <td>2</td>\n",
       "      <td>2</td>\n",
       "      <td>4</td>\n",
       "      <td>1</td>\n",
       "      <td>0</td>\n",
       "      <td>2</td>\n",
       "      <td>2</td>\n",
       "      <td>2</td>\n",
       "      <td>...</td>\n",
       "      <td>2</td>\n",
       "      <td>0.0</td>\n",
       "      <td>0.0</td>\n",
       "      <td>324601</td>\n",
       "      <td>41423</td>\n",
       "      <td>64.35</td>\n",
       "      <td>72.62</td>\n",
       "      <td>72.76</td>\n",
       "      <td>67.8</td>\n",
       "      <td>100.0</td>\n",
       "    </tr>\n",
       "  </tbody>\n",
       "</table>\n",
       "<p>5 rows × 25 columns</p>\n",
       "</div>"
      ],
      "text/plain": [
       "         date  c1_school_closing  c2_workplace_closing  \\\n",
       "231  20200819                  2                     2   \n",
       "232  20200820                  2                     2   \n",
       "233  20200821                  2                     2   \n",
       "234  20200822                  2                     2   \n",
       "235  20200823                  2                     2   \n",
       "\n",
       "     c3_cancel_public_events  c4_restrictions_on_gatherings  \\\n",
       "231                        2                              4   \n",
       "232                        2                              4   \n",
       "233                        2                              4   \n",
       "234                        2                              4   \n",
       "235                        2                              4   \n",
       "\n",
       "     c5_close_public_transport  c6_stay_at_home_requirements  \\\n",
       "231                          1                             0   \n",
       "232                          1                             0   \n",
       "233                          1                             0   \n",
       "234                          1                             0   \n",
       "235                          1                             0   \n",
       "\n",
       "     c7_restrictions_on_internal_movement  c8_international_travel_controls  \\\n",
       "231                                     2                                 2   \n",
       "232                                     2                                 2   \n",
       "233                                     2                                 2   \n",
       "234                                     2                                 2   \n",
       "235                                     2                                 2   \n",
       "\n",
       "     e1_income_support  ...  h3_contact_tracing  \\\n",
       "231                  2  ...                   2   \n",
       "232                  2  ...                   2   \n",
       "233                  2  ...                   2   \n",
       "234                  2  ...                   2   \n",
       "235                  2  ...                   2   \n",
       "\n",
       "     h4_emergency_investment_in_healthcare  h5_investment_in_vaccines  \\\n",
       "231                                    0.0                        0.0   \n",
       "232                                    0.0                        0.0   \n",
       "233                                    0.0                        0.0   \n",
       "234                                    0.0                        0.0   \n",
       "235                                    0.0                        0.0   \n",
       "\n",
       "     confirmed_cases  confirmed_deaths  stringency_index  \\\n",
       "231           320286             41381             64.35   \n",
       "232           321098             41397             64.35   \n",
       "233           322280             41403             64.35   \n",
       "234           323313             41405             64.35   \n",
       "235           324601             41423             64.35   \n",
       "\n",
       "     stringency_legacy_index  government_response_index  \\\n",
       "231                    72.62                      72.76   \n",
       "232                    72.62                      72.76   \n",
       "233                    72.62                      72.76   \n",
       "234                    72.62                      72.76   \n",
       "235                    72.62                      72.76   \n",
       "\n",
       "     containment_health_index  economic_support_index  \n",
       "231                      67.8                   100.0  \n",
       "232                      67.8                   100.0  \n",
       "233                      67.8                   100.0  \n",
       "234                      67.8                   100.0  \n",
       "235                      67.8                   100.0  \n",
       "\n",
       "[5 rows x 25 columns]"
      ]
     },
     "execution_count": 4,
     "metadata": {},
     "output_type": "execute_result"
    }
   ],
   "source": [
    "string_uk.tail()"
   ]
  },
  {
   "cell_type": "markdown",
   "metadata": {},
   "source": [
    "The above shows the first and last 5 rows. Everything seems to have worked as expected. The following shows the structure of the dataframe. There appears to be 25 columns (variables) and 236 rows (entries), all of which are either integers or floats."
   ]
  },
  {
   "cell_type": "code",
   "execution_count": 5,
   "metadata": {},
   "outputs": [
    {
     "name": "stdout",
     "output_type": "stream",
     "text": [
      "<class 'pandas.core.frame.DataFrame'>\n",
      "RangeIndex: 236 entries, 0 to 235\n",
      "Data columns (total 25 columns):\n",
      " #   Column                                 Non-Null Count  Dtype  \n",
      "---  ------                                 --------------  -----  \n",
      " 0   date                                   236 non-null    int64  \n",
      " 1   c1_school_closing                      236 non-null    int64  \n",
      " 2   c2_workplace_closing                   236 non-null    int64  \n",
      " 3   c3_cancel_public_events                236 non-null    int64  \n",
      " 4   c4_restrictions_on_gatherings          236 non-null    int64  \n",
      " 5   c5_close_public_transport              236 non-null    int64  \n",
      " 6   c6_stay_at_home_requirements           236 non-null    int64  \n",
      " 7   c7_restrictions_on_internal_movement   236 non-null    int64  \n",
      " 8   c8_international_travel_controls       236 non-null    int64  \n",
      " 9   e1_income_support                      236 non-null    int64  \n",
      " 10  e2_debt/contract_relief                236 non-null    int64  \n",
      " 11  e3_fiscal_measures                     236 non-null    float64\n",
      " 12  e4_international_support               236 non-null    int64  \n",
      " 13  h1_public_information_campaigns        236 non-null    int64  \n",
      " 14  h2_testing_policy                      236 non-null    int64  \n",
      " 15  h3_contact_tracing                     236 non-null    int64  \n",
      " 16  h4_emergency_investment_in_healthcare  236 non-null    float64\n",
      " 17  h5_investment_in_vaccines              236 non-null    float64\n",
      " 18  confirmed_cases                        236 non-null    int64  \n",
      " 19  confirmed_deaths                       236 non-null    int64  \n",
      " 20  stringency_index                       236 non-null    float64\n",
      " 21  stringency_legacy_index                236 non-null    float64\n",
      " 22  government_response_index              236 non-null    float64\n",
      " 23  containment_health_index               236 non-null    float64\n",
      " 24  economic_support_index                 236 non-null    float64\n",
      "dtypes: float64(8), int64(17)\n",
      "memory usage: 46.2 KB\n"
     ]
    }
   ],
   "source": [
    "string_uk.info()"
   ]
  },
  {
   "cell_type": "markdown",
   "metadata": {},
   "source": [
    "## 3. Basic descriptive statistics\n",
    "Some simple inital analyses of the few variables that can be investigated in this way."
   ]
  },
  {
   "cell_type": "markdown",
   "metadata": {},
   "source": [
    "### 3.1 Total investment in vaccines"
   ]
  },
  {
   "cell_type": "code",
   "execution_count": 6,
   "metadata": {},
   "outputs": [
    {
     "data": {
      "text/plain": [
       "338688901.08000004"
      ]
     },
     "execution_count": 6,
     "metadata": {},
     "output_type": "execute_result"
    }
   ],
   "source": [
    "string_uk['h5_investment_in_vaccines'].sum()"
   ]
  },
  {
   "cell_type": "markdown",
   "metadata": {},
   "source": [
    "Let's put that in an easier to read format."
   ]
  },
  {
   "cell_type": "code",
   "execution_count": 7,
   "metadata": {},
   "outputs": [
    {
     "name": "stdout",
     "output_type": "stream",
     "text": [
      "Total announced public spending on vaccine development:\n",
      "$ 338,688,901.\n"
     ]
    }
   ],
   "source": [
    "vac_invest_uk = string_uk['h5_investment_in_vaccines'].sum()\n",
    "\n",
    "locale.setlocale(locale.LC_ALL, 'en_GB') # required or it won't work\n",
    "\n",
    "# This formats the number so that the decimal places are removed and commas are added to \n",
    "# make long numbers easier to read:\n",
    "formated_amount = locale.format_string('%d',\n",
    "                                       vac_invest_uk,\n",
    "                                       grouping = True)\n",
    "\n",
    "print('Total announced public spending on vaccine development:\\n'\n",
    "      '$ {}.'\n",
    "      .format(formated_amount))"
   ]
  },
  {
   "cell_type": "markdown",
   "metadata": {},
   "source": [
    "I thought it would be interesting to look at a break down of this by UK nation. However, the data are a bit odd – apparently only Wales has spent money on vaccine development. This is probably something that is a combined UK spend anyway but it was worth just playing around with it. I've had a quick look at the data in Excel and it looks like the healthcare investment data might be more promising."
   ]
  },
  {
   "cell_type": "code",
   "execution_count": 8,
   "metadata": {},
   "outputs": [
    {
     "name": "stdout",
     "output_type": "stream",
     "text": [
      "Total spend by UK nations on vaccine development\n",
      "––––––––––––––––––––––––––––––––––––––––––––––––\n",
      "England: $ 0\n",
      "Northern Ireland: $ 0\n",
      "Scotland: $ 0\n",
      "Wales: $ 257,580,748\n"
     ]
    }
   ],
   "source": [
    "vac_invest_eng = locale.format_string('%d',\n",
    "                                       string_eng['h5_investment_in_vaccines'].sum(),\n",
    "                                       grouping = True)\n",
    "\n",
    "vac_invest_ni = locale.format_string('%d',\n",
    "                                       string_ni['h5_investment_in_vaccines'].sum(),\n",
    "                                       grouping = True)\n",
    "\n",
    "vac_invest_scot = locale.format_string('%d',\n",
    "                                       string_scot['h5_investment_in_vaccines'].sum(),\n",
    "                                       grouping = True)\n",
    "\n",
    "vac_invest_wales = locale.format_string('%d',\n",
    "                                       string_wales['h5_investment_in_vaccines'].sum(),\n",
    "                                       grouping = True)\n",
    "\n",
    "print('Total spend by UK nations on vaccine development\\n'\n",
    "      '––––––––––––––––––––––––––––––––––––––––––––––––\\n'\n",
    "      'England: $ {}\\n'\n",
    "      'Northern Ireland: $ {}\\n'\n",
    "      'Scotland: $ {}\\n'\n",
    "      'Wales: $ {}'\n",
    "      .format(vac_invest_eng, vac_invest_ni, vac_invest_scot, vac_invest_wales)\n",
    "     )"
   ]
  },
  {
   "cell_type": "markdown",
   "metadata": {},
   "source": [
    "### 3.2 Total investment in emergency healthcare"
   ]
  },
  {
   "cell_type": "code",
   "execution_count": 9,
   "metadata": {},
   "outputs": [
    {
     "data": {
      "text/plain": [
       "6444663712.99"
      ]
     },
     "execution_count": 9,
     "metadata": {},
     "output_type": "execute_result"
    }
   ],
   "source": [
    "string_uk['h4_emergency_investment_in_healthcare'].sum()"
   ]
  },
  {
   "cell_type": "markdown",
   "metadata": {},
   "source": [
    "Again, we can make this easier to read."
   ]
  },
  {
   "cell_type": "code",
   "execution_count": 10,
   "metadata": {},
   "outputs": [
    {
     "name": "stdout",
     "output_type": "stream",
     "text": [
      "Total announced public spending on emergency healthcare (e.g. hospitals, masks etc.): \n",
      "$ 6,444,663,712\n"
     ]
    }
   ],
   "source": [
    "health_invest_uk = string_uk['h4_emergency_investment_in_healthcare'].sum()\n",
    "\n",
    "formated_amount = locale.format_string('%d',\n",
    "                                       health_invest_uk,\n",
    "                                       grouping = True)\n",
    "\n",
    "print('Total announced public spending on emergency healthcare ' \n",
    "      '(e.g. hospitals, masks etc.): \\n'\n",
    "      '$ {}'\n",
    "      .format(formated_amount))"
   ]
  },
  {
   "cell_type": "markdown",
   "metadata": {},
   "source": [
    "And once more we can split it into the different UK nations."
   ]
  },
  {
   "cell_type": "code",
   "execution_count": 11,
   "metadata": {},
   "outputs": [
    {
     "name": "stdout",
     "output_type": "stream",
     "text": [
      "Total spend by UK nations on emergency healthcare\n",
      "–––––––––––––––––––––––––––––––––––––––––––––––––\n",
      "England: $ 4,129,592,822\n",
      "Northern Ireland: $ 0\n",
      "Scotland: $ 78,366,682\n",
      "Wales: $ 4,129,592,822\n"
     ]
    }
   ],
   "source": [
    "health_invest_eng = locale.format_string('%d',\n",
    "                                         string_eng['h4_emergency_investment_in_healthcare'].sum(),\n",
    "                                         grouping = True)\n",
    "\n",
    "health_invest_ni = locale.format_string('%d',\n",
    "                                        string_ni['h4_emergency_investment_in_healthcare'].sum(),\n",
    "                                        grouping = True)\n",
    "\n",
    "health_invest_scot = locale.format_string('%d',\n",
    "                                          string_scot['h4_emergency_investment_in_healthcare'].sum(),\n",
    "                                          grouping = True)\n",
    "\n",
    "health_invest_wales = locale.format_string('%d',\n",
    "                                           string_wales['h4_emergency_investment_in_healthcare'].sum(),\n",
    "                                           grouping = True)\n",
    "\n",
    "print('Total spend by UK nations on emergency healthcare\\n'\n",
    "      '–––––––––––––––––––––––––––––––––––––––––––––––––\\n'\n",
    "      'England: $ {}\\n'\n",
    "      'Northern Ireland: $ {}\\n'\n",
    "      'Scotland: $ {}\\n'\n",
    "      'Wales: $ {}'\n",
    "      .format(health_invest_eng, health_invest_ni, health_invest_scot, health_invest_wales)\n",
    "     )"
   ]
  },
  {
   "cell_type": "markdown",
   "metadata": {},
   "source": [
    "Looking at these results, I wouldn't trust the split nations data. England and Wales spend appears to be identical so it must acutally be combined. Also the total combined spend on emergency health care was over 6 billion dollars. The total of adding up the 4 billion from England & Wales plus the 78 million from Scotland wouldn't add up to 6 billion so some of the data has gotten lost in the split into nations. **Only the combined UK data is reliable!**"
   ]
  },
  {
   "cell_type": "markdown",
   "metadata": {},
   "source": [
    "### 3.3 Fiscal measures\n",
    "I'm not happy with the data split according to UK nation so will only look at the combined data for this section."
   ]
  },
  {
   "cell_type": "code",
   "execution_count": 12,
   "metadata": {},
   "outputs": [
    {
     "name": "stdout",
     "output_type": "stream",
     "text": [
      "Total economic stimulus spending: $ 115,768,968,969\n"
     ]
    }
   ],
   "source": [
    "fiscal_uk = string_uk['e3_fiscal_measures'].sum()\n",
    "\n",
    "formated_amount = locale.format_string('%d',\n",
    "                                       fiscal_uk,\n",
    "                                       grouping = True)\n",
    "\n",
    "print('Total economic stimulus spending: $ {}'.format(formated_amount))"
   ]
  },
  {
   "cell_type": "markdown",
   "metadata": {},
   "source": [
    "### 3.4 Offers of aid"
   ]
  },
  {
   "cell_type": "code",
   "execution_count": 13,
   "metadata": {},
   "outputs": [
    {
     "name": "stdout",
     "output_type": "stream",
     "text": [
      "Announced offers of Covid-19 related aid spending to other countries: $ 207,860,000\n"
     ]
    }
   ],
   "source": [
    "aid_uk = string_uk['e4_international_support'].sum()\n",
    "\n",
    "formated_amount = locale.format_string('%d',\n",
    "                                       aid_uk,\n",
    "                                       grouping = True)\n",
    "\n",
    "print('Announced offers of Covid-19 related aid spending to other countries: $ {}'\n",
    "      .format(formated_amount))"
   ]
  },
  {
   "cell_type": "markdown",
   "metadata": {},
   "source": [
    "## 4 Exploratory plots"
   ]
  },
  {
   "cell_type": "markdown",
   "metadata": {},
   "source": [
    "### 4.1 Number of cases and deaths"
   ]
  },
  {
   "cell_type": "markdown",
   "metadata": {},
   "source": [
    "Immediately upon creating my first plot in this section I realised that I hadn't converted the dates in the dataframe into proper datetime formats. The plot comes out completely wrong without the dates converted to datetime format:"
   ]
  },
  {
   "cell_type": "code",
   "execution_count": 14,
   "metadata": {},
   "outputs": [
    {
     "data": {
      "image/png": "[encoded data removed]",
      "text/plain": [
       "<Figure size 1080x504 with 1 Axes>"
      ]
     },
     "metadata": {
      "needs_background": "light"
     },
     "output_type": "display_data"
    }
   ],
   "source": [
    "# Plot axes and data.\n",
    "fig, ax = plt.subplots(figsize=(15, 7))\n",
    "\n",
    "plt.plot(string_uk['date'], string_uk['confirmed_cases'], color='teal')\n",
    "\n",
    "# Customise plot.\n",
    "ax.set_title('Number of cases')\n",
    "ax.set_xlabel('Date')\n",
    "ax.set_ylabel('Cumulative total')\n",
    "ax.spines['top'].set_visible(False)\n",
    "ax.spines['right'].set_visible(False)\n",
    "\n",
    "# plt.show() - needed in pycharm but not here"
   ]
  },
  {
   "cell_type": "markdown",
   "metadata": {},
   "source": [
    "I can convert the dates to datetime format using the pandas `to_datetime()` function. This only takes strings as an input but we saw earlier that the date column contains the integer data type. Therefore I use the pandas `.astype()` method to cast the data column data as strings. I then have to specify the format that the date is in. This requires looking at a value in the column and using the correct [codes](https://docs.python.org/3/library/datetime.html#strftime-and-strptime-format-codes)."
   ]
  },
  {
   "cell_type": "code",
   "execution_count": 15,
   "metadata": {},
   "outputs": [],
   "source": [
    "# convert dates to datetime format\n",
    "string_uk['date'] = pd.to_datetime(string_uk['date'].astype(str), \n",
    "                                   format ='%Y%m%d')"
   ]
  },
  {
   "cell_type": "code",
   "execution_count": 16,
   "metadata": {},
   "outputs": [
    {
     "data": {
      "text/html": [
       "<div>\n",
       "<style scoped>\n",
       "    .dataframe tbody tr th:only-of-type {\n",
       "        vertical-align: middle;\n",
       "    }\n",
       "\n",
       "    .dataframe tbody tr th {\n",
       "        vertical-align: top;\n",
       "    }\n",
       "\n",
       "    .dataframe thead th {\n",
       "        text-align: right;\n",
       "    }\n",
       "</style>\n",
       "<table border=\"1\" class=\"dataframe\">\n",
       "  <thead>\n",
       "    <tr style=\"text-align: right;\">\n",
       "      <th></th>\n",
       "      <th>date</th>\n",
       "      <th>c1_school_closing</th>\n",
       "      <th>c2_workplace_closing</th>\n",
       "      <th>c3_cancel_public_events</th>\n",
       "      <th>c4_restrictions_on_gatherings</th>\n",
       "      <th>c5_close_public_transport</th>\n",
       "      <th>c6_stay_at_home_requirements</th>\n",
       "      <th>c7_restrictions_on_internal_movement</th>\n",
       "      <th>c8_international_travel_controls</th>\n",
       "      <th>e1_income_support</th>\n",
       "      <th>...</th>\n",
       "      <th>h3_contact_tracing</th>\n",
       "      <th>h4_emergency_investment_in_healthcare</th>\n",
       "      <th>h5_investment_in_vaccines</th>\n",
       "      <th>confirmed_cases</th>\n",
       "      <th>confirmed_deaths</th>\n",
       "      <th>stringency_index</th>\n",
       "      <th>stringency_legacy_index</th>\n",
       "      <th>government_response_index</th>\n",
       "      <th>containment_health_index</th>\n",
       "      <th>economic_support_index</th>\n",
       "    </tr>\n",
       "  </thead>\n",
       "  <tbody>\n",
       "    <tr>\n",
       "      <th>0</th>\n",
       "      <td>2020-01-01</td>\n",
       "      <td>0</td>\n",
       "      <td>0</td>\n",
       "      <td>0</td>\n",
       "      <td>0</td>\n",
       "      <td>0</td>\n",
       "      <td>0</td>\n",
       "      <td>0</td>\n",
       "      <td>0</td>\n",
       "      <td>0</td>\n",
       "      <td>...</td>\n",
       "      <td>0</td>\n",
       "      <td>0.0</td>\n",
       "      <td>0.0</td>\n",
       "      <td>0</td>\n",
       "      <td>0</td>\n",
       "      <td>0.0</td>\n",
       "      <td>0.0</td>\n",
       "      <td>0.0</td>\n",
       "      <td>0.0</td>\n",
       "      <td>0.0</td>\n",
       "    </tr>\n",
       "    <tr>\n",
       "      <th>1</th>\n",
       "      <td>2020-01-02</td>\n",
       "      <td>0</td>\n",
       "      <td>0</td>\n",
       "      <td>0</td>\n",
       "      <td>0</td>\n",
       "      <td>0</td>\n",
       "      <td>0</td>\n",
       "      <td>0</td>\n",
       "      <td>0</td>\n",
       "      <td>0</td>\n",
       "      <td>...</td>\n",
       "      <td>0</td>\n",
       "      <td>0.0</td>\n",
       "      <td>0.0</td>\n",
       "      <td>0</td>\n",
       "      <td>0</td>\n",
       "      <td>0.0</td>\n",
       "      <td>0.0</td>\n",
       "      <td>0.0</td>\n",
       "      <td>0.0</td>\n",
       "      <td>0.0</td>\n",
       "    </tr>\n",
       "    <tr>\n",
       "      <th>2</th>\n",
       "      <td>2020-01-03</td>\n",
       "      <td>0</td>\n",
       "      <td>0</td>\n",
       "      <td>0</td>\n",
       "      <td>0</td>\n",
       "      <td>0</td>\n",
       "      <td>0</td>\n",
       "      <td>0</td>\n",
       "      <td>0</td>\n",
       "      <td>0</td>\n",
       "      <td>...</td>\n",
       "      <td>0</td>\n",
       "      <td>0.0</td>\n",
       "      <td>0.0</td>\n",
       "      <td>0</td>\n",
       "      <td>0</td>\n",
       "      <td>0.0</td>\n",
       "      <td>0.0</td>\n",
       "      <td>0.0</td>\n",
       "      <td>0.0</td>\n",
       "      <td>0.0</td>\n",
       "    </tr>\n",
       "    <tr>\n",
       "      <th>3</th>\n",
       "      <td>2020-01-04</td>\n",
       "      <td>0</td>\n",
       "      <td>0</td>\n",
       "      <td>0</td>\n",
       "      <td>0</td>\n",
       "      <td>0</td>\n",
       "      <td>0</td>\n",
       "      <td>0</td>\n",
       "      <td>0</td>\n",
       "      <td>0</td>\n",
       "      <td>...</td>\n",
       "      <td>0</td>\n",
       "      <td>0.0</td>\n",
       "      <td>0.0</td>\n",
       "      <td>0</td>\n",
       "      <td>0</td>\n",
       "      <td>0.0</td>\n",
       "      <td>0.0</td>\n",
       "      <td>0.0</td>\n",
       "      <td>0.0</td>\n",
       "      <td>0.0</td>\n",
       "    </tr>\n",
       "    <tr>\n",
       "      <th>4</th>\n",
       "      <td>2020-01-05</td>\n",
       "      <td>0</td>\n",
       "      <td>0</td>\n",
       "      <td>0</td>\n",
       "      <td>0</td>\n",
       "      <td>0</td>\n",
       "      <td>0</td>\n",
       "      <td>0</td>\n",
       "      <td>0</td>\n",
       "      <td>0</td>\n",
       "      <td>...</td>\n",
       "      <td>0</td>\n",
       "      <td>0.0</td>\n",
       "      <td>0.0</td>\n",
       "      <td>0</td>\n",
       "      <td>0</td>\n",
       "      <td>0.0</td>\n",
       "      <td>0.0</td>\n",
       "      <td>0.0</td>\n",
       "      <td>0.0</td>\n",
       "      <td>0.0</td>\n",
       "    </tr>\n",
       "  </tbody>\n",
       "</table>\n",
       "<p>5 rows × 25 columns</p>\n",
       "</div>"
      ],
      "text/plain": [
       "        date  c1_school_closing  c2_workplace_closing  \\\n",
       "0 2020-01-01                  0                     0   \n",
       "1 2020-01-02                  0                     0   \n",
       "2 2020-01-03                  0                     0   \n",
       "3 2020-01-04                  0                     0   \n",
       "4 2020-01-05                  0                     0   \n",
       "\n",
       "   c3_cancel_public_events  c4_restrictions_on_gatherings  \\\n",
       "0                        0                              0   \n",
       "1                        0                              0   \n",
       "2                        0                              0   \n",
       "3                        0                              0   \n",
       "4                        0                              0   \n",
       "\n",
       "   c5_close_public_transport  c6_stay_at_home_requirements  \\\n",
       "0                          0                             0   \n",
       "1                          0                             0   \n",
       "2                          0                             0   \n",
       "3                          0                             0   \n",
       "4                          0                             0   \n",
       "\n",
       "   c7_restrictions_on_internal_movement  c8_international_travel_controls  \\\n",
       "0                                     0                                 0   \n",
       "1                                     0                                 0   \n",
       "2                                     0                                 0   \n",
       "3                                     0                                 0   \n",
       "4                                     0                                 0   \n",
       "\n",
       "   e1_income_support  ...  h3_contact_tracing  \\\n",
       "0                  0  ...                   0   \n",
       "1                  0  ...                   0   \n",
       "2                  0  ...                   0   \n",
       "3                  0  ...                   0   \n",
       "4                  0  ...                   0   \n",
       "\n",
       "   h4_emergency_investment_in_healthcare  h5_investment_in_vaccines  \\\n",
       "0                                    0.0                        0.0   \n",
       "1                                    0.0                        0.0   \n",
       "2                                    0.0                        0.0   \n",
       "3                                    0.0                        0.0   \n",
       "4                                    0.0                        0.0   \n",
       "\n",
       "   confirmed_cases  confirmed_deaths  stringency_index  \\\n",
       "0                0                 0               0.0   \n",
       "1                0                 0               0.0   \n",
       "2                0                 0               0.0   \n",
       "3                0                 0               0.0   \n",
       "4                0                 0               0.0   \n",
       "\n",
       "   stringency_legacy_index  government_response_index  \\\n",
       "0                      0.0                        0.0   \n",
       "1                      0.0                        0.0   \n",
       "2                      0.0                        0.0   \n",
       "3                      0.0                        0.0   \n",
       "4                      0.0                        0.0   \n",
       "\n",
       "   containment_health_index  economic_support_index  \n",
       "0                       0.0                     0.0  \n",
       "1                       0.0                     0.0  \n",
       "2                       0.0                     0.0  \n",
       "3                       0.0                     0.0  \n",
       "4                       0.0                     0.0  \n",
       "\n",
       "[5 rows x 25 columns]"
      ]
     },
     "execution_count": 16,
     "metadata": {},
     "output_type": "execute_result"
    }
   ],
   "source": [
    "string_uk.head()"
   ]
  },
  {
   "cell_type": "code",
   "execution_count": 17,
   "metadata": {},
   "outputs": [
    {
     "data": {
      "image/png": "[encoded data removed]",
      "text/plain": [
       "<Figure size 1080x504 with 1 Axes>"
      ]
     },
     "metadata": {
      "needs_background": "light"
     },
     "output_type": "display_data"
    }
   ],
   "source": [
    "# Plot axes and data.\n",
    "fig, ax = plt.subplots(figsize=(15, 7))\n",
    "plt.plot(string_uk['date'], \n",
    "         string_uk['confirmed_cases'], \n",
    "         color='teal')\n",
    "\n",
    "# Customise plot.\n",
    "ax.set_title('Number of cases')\n",
    "ax.set_xlabel('Date')\n",
    "ax.set_ylabel('Cumulative total')\n",
    "ax.spines['top'].set_visible(False) # remove top line of box\n",
    "ax.spines['right'].set_visible(False) # remove right line of box"
   ]
  },
  {
   "cell_type": "code",
   "execution_count": 18,
   "metadata": {},
   "outputs": [
    {
     "data": {
      "image/png": "[encoded data removed]",
      "text/plain": [
       "<Figure size 1080x504 with 1 Axes>"
      ]
     },
     "metadata": {
      "needs_background": "light"
     },
     "output_type": "display_data"
    }
   ],
   "source": [
    "# Plot axes and data.\n",
    "fig, ax = plt.subplots(figsize=(15, 7))\n",
    "plt.plot(string_uk['date'], \n",
    "         string_uk['confirmed_deaths'], \n",
    "         color='salmon')\n",
    "\n",
    "# Customise plot.\n",
    "ax.set_title('Number of deaths')\n",
    "ax.set_xlabel('Date')\n",
    "ax.set_ylabel('Cumulative total')\n",
    "ax.spines['top'].set_visible(False)\n",
    "ax.spines['right'].set_visible(False)"
   ]
  },
  {
   "cell_type": "code",
   "execution_count": 19,
   "metadata": {},
   "outputs": [
    {
     "data": {
      "image/png": "[encoded data removed]",
      "text/plain": [
       "<Figure size 1080x504 with 1 Axes>"
      ]
     },
     "metadata": {
      "needs_background": "light"
     },
     "output_type": "display_data"
    }
   ],
   "source": [
    "# Plot axes and data.\n",
    "fig, ax = plt.subplots(figsize=(15, 7))\n",
    "plt.plot(string_uk['date'], \n",
    "         string_uk['confirmed_deaths'], \n",
    "         color='salmon', \n",
    "         label='deaths')\n",
    "plt.plot(string_uk['date'], \n",
    "         string_uk['confirmed_cases'], \n",
    "         color='teal', \n",
    "         label='cases')\n",
    "\n",
    "# Customise plot.\n",
    "ax.set_title('Number of cases and deaths')\n",
    "ax.set_xlabel('Date')\n",
    "ax.set_ylabel('Cumulative total')\n",
    "ax.spines['top'].set_visible(False)\n",
    "ax.spines['right'].set_visible(False)\n",
    "\n",
    "# Legend\n",
    "leg = ax.legend(frameon=False, borderpad=5)"
   ]
  },
  {
   "cell_type": "markdown",
   "metadata": {},
   "source": [
    "### 4.2 Stringency index"
   ]
  },
  {
   "cell_type": "code",
   "execution_count": 20,
   "metadata": {},
   "outputs": [
    {
     "data": {
      "image/png": "[encoded data removed]",
      "text/plain": [
       "<Figure size 1080x504 with 1 Axes>"
      ]
     },
     "metadata": {
      "needs_background": "light"
     },
     "output_type": "display_data"
    }
   ],
   "source": [
    "# Plot axes and data.\n",
    "fig, ax = plt.subplots(figsize=(15, 7))\n",
    "plt.plot(string_uk['date'], \n",
    "         string_uk['stringency_index'], \n",
    "         color='teal')\n",
    "\n",
    "# Customise plot.\n",
    "ax.set_title('Stringency index')\n",
    "ax.set_xlabel('Date')\n",
    "ax.set_ylabel('Index')\n",
    "ax.spines['top'].set_visible(False)\n",
    "ax.spines['right'].set_visible(False)"
   ]
  },
  {
   "cell_type": "markdown",
   "metadata": {},
   "source": [
    "### 4.3 Government response index"
   ]
  },
  {
   "cell_type": "code",
   "execution_count": 21,
   "metadata": {},
   "outputs": [
    {
     "data": {
      "image/png": "[encoded data removed]",
      "text/plain": [
       "<Figure size 1080x504 with 1 Axes>"
      ]
     },
     "metadata": {
      "needs_background": "light"
     },
     "output_type": "display_data"
    }
   ],
   "source": [
    "# Plot axes and data.\n",
    "fig, ax = plt.subplots(figsize=(15, 7))\n",
    "plt.plot(string_uk['date'], \n",
    "         string_uk['government_response_index'], \n",
    "         color='teal')\n",
    "\n",
    "# Customise plot.\n",
    "ax.set_title('Government response index')\n",
    "ax.set_xlabel('Date')\n",
    "ax.set_ylabel('Index')\n",
    "ax.spines['top'].set_visible(False)\n",
    "ax.spines['right'].set_visible(False)"
   ]
  },
  {
   "cell_type": "markdown",
   "metadata": {},
   "source": [
    "### 4.4 Containment health index"
   ]
  },
  {
   "cell_type": "code",
   "execution_count": 22,
   "metadata": {},
   "outputs": [
    {
     "data": {
      "image/png": "[encoded data removed]",
      "text/plain": [
       "<Figure size 1080x504 with 1 Axes>"
      ]
     },
     "metadata": {
      "needs_background": "light"
     },
     "output_type": "display_data"
    }
   ],
   "source": [
    "# Plot axes and data.\n",
    "fig, ax = plt.subplots(figsize=(15, 7))\n",
    "plt.plot(string_uk['date'], \n",
    "         string_uk['containment_health_index'], \n",
    "         color='teal')\n",
    "\n",
    "# Customise plot.\n",
    "ax.set_title('Containment health index')\n",
    "ax.set_xlabel('Date')\n",
    "ax.set_ylabel('Index')\n",
    "ax.spines['top'].set_visible(False)\n",
    "ax.spines['right'].set_visible(False)"
   ]
  },
  {
   "cell_type": "markdown",
   "metadata": {},
   "source": [
    "### 4.5 Economic support index"
   ]
  },
  {
   "cell_type": "code",
   "execution_count": 23,
   "metadata": {},
   "outputs": [
    {
     "data": {
      "image/png": "[encoded data removed]",
      "text/plain": [
       "<Figure size 1080x504 with 1 Axes>"
      ]
     },
     "metadata": {
      "needs_background": "light"
     },
     "output_type": "display_data"
    }
   ],
   "source": [
    "# Plot axes and data.\n",
    "fig, ax = plt.subplots(figsize=(15, 7))\n",
    "plt.plot(string_uk['date'], \n",
    "         string_uk['economic_support_index'], \n",
    "         color='teal')\n",
    "\n",
    "# Customise plot.\n",
    "ax.set_title('Economic support index')\n",
    "ax.set_xlabel('Date')\n",
    "ax.set_ylabel('Index')\n",
    "ax.spines['top'].set_visible(False)\n",
    "ax.spines['right'].set_visible(False)"
   ]
  },
  {
   "cell_type": "markdown",
   "metadata": {},
   "source": [
    "### 4.6 Indices together"
   ]
  },
  {
   "cell_type": "markdown",
   "metadata": {},
   "source": [
    "They all look pretty similar, except the economic support index. I've plotted them all together to see just how similar here."
   ]
  },
  {
   "cell_type": "code",
   "execution_count": 24,
   "metadata": {},
   "outputs": [
    {
     "data": {
      "image/png": "[encoded data removed]",
      "text/plain": [
       "<Figure size 1080x504 with 1 Axes>"
      ]
     },
     "metadata": {
      "needs_background": "light"
     },
     "output_type": "display_data"
    }
   ],
   "source": [
    "# Plot axes and data.\n",
    "fig, ax = plt.subplots(figsize=(15, 7))\n",
    "plt.plot(string_uk['date'], \n",
    "         string_uk['stringency_index'], \n",
    "         color='olivedrab', \n",
    "         label='Stringency index')\n",
    "plt.plot(string_uk['date'], \n",
    "         string_uk['government_response_index'], \n",
    "         color='darkgoldenrod', \n",
    "         label='Government response index')\n",
    "plt.plot(string_uk['date'], \n",
    "         string_uk['containment_health_index'], \n",
    "         color='steelblue', \n",
    "         label='Containment health index')\n",
    "plt.plot(string_uk['date'], \n",
    "         string_uk['economic_support_index'], \n",
    "         color='firebrick', \n",
    "         label='Economic support index')\n",
    "\n",
    "# Customise plot.\n",
    "ax.set_title('Response tracker indicies')\n",
    "ax.set_xlabel('Date')\n",
    "ax.set_ylabel('Index')\n",
    "ax.spines['top'].set_visible(False)\n",
    "ax.spines['right'].set_visible(False)\n",
    "\n",
    "# Legend\n",
    "leg = ax.legend(frameon=False, borderpad=5)"
   ]
  },
  {
   "cell_type": "markdown",
   "metadata": {},
   "source": [
    "A lot happens in March. It is worth zooming in to this section perhaps."
   ]
  },
  {
   "cell_type": "code",
   "execution_count": 25,
   "metadata": {},
   "outputs": [
    {
     "data": {
      "image/png": "[encoded data removed]",
      "text/plain": [
       "<Figure size 1080x504 with 1 Axes>"
      ]
     },
     "metadata": {
      "needs_background": "light"
     },
     "output_type": "display_data"
    }
   ],
   "source": [
    "# Choose start and end dates for plot.\n",
    "start_date = '2020-03-01'\n",
    "end_date = '2020-03-31'\n",
    "\n",
    "# Get Python to select only the data you have asked for.\n",
    "plot_data = string_uk.loc[(string_uk['date'] >= start_date) & \n",
    "                          (string_uk['date'] <= end_date)]\n",
    "\n",
    "# Plot axes and data.\n",
    "fig, ax = plt.subplots(figsize=(15, 7))\n",
    "plt.plot(plot_data['date'], \n",
    "         plot_data['stringency_index'], \n",
    "         color='olivedrab', \n",
    "         label='Stringency index')\n",
    "plt.plot(plot_data['date'], \n",
    "         plot_data['government_response_index'], \n",
    "         color='darkgoldenrod', \n",
    "         label='Government response index')\n",
    "plt.plot(plot_data['date'], \n",
    "         plot_data['containment_health_index'], \n",
    "         color='steelblue', \n",
    "         label='Containment health index')\n",
    "plt.plot(plot_data['date'], \n",
    "         plot_data['economic_support_index'], \n",
    "         color='firebrick', \n",
    "         label='Economic support index')\n",
    "\n",
    "# Customise plot.\n",
    "ax.set_title('Response tracker indicies')\n",
    "ax.set_xlabel('March 2020')\n",
    "ax.set_ylabel('Index')\n",
    "ax.spines['top'].set_visible(False)\n",
    "ax.spines['right'].set_visible(False)\n",
    "\n",
    "# Add legend.\n",
    "leg = ax.legend(frameon=False, borderpad=5)\n",
    "\n",
    "# Define the date format\n",
    "date_form = DateFormatter(\"%d\")\n",
    "ax.xaxis.set_major_formatter(date_form)"
   ]
  },
  {
   "cell_type": "markdown",
   "metadata": {},
   "source": [
    "It's probably time that I look into the different indicies and see which one is most useful and what they all mean. I have found out from [here](https://github.com/OxCGRT/covid-policy-tracker/blob/master/documentation/index_methodology.md) that each index just takes into account the different indicators in the dataframe (e.g. the economic support index goes off only E1 and E2). We probably have no need for the legacy stringency index. As the question we have been tasked with asked what happens when the government did something, the government response index might be the most appropriate. If we want to see what happens when lockdown restrictions come in, the stringency index would be best. It might be worth plotting up the different components of the stringency index."
   ]
  }
 ],
 "metadata": {
  "kernelspec": {
   "display_name": "Python 3",
   "language": "python",
   "name": "python3"
  },
  "language_info": {
   "codemirror_mode": {
    "name": "ipython",
    "version": 3
   },
   "file_extension": ".py",
   "mimetype": "text/x-python",
   "name": "python",
   "nbconvert_exporter": "python",
   "pygments_lexer": "ipython3",
   "version": "3.8.2"
  }
 },
 "nbformat": 4,
 "nbformat_minor": 4
}
